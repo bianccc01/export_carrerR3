{
 "cells": [
  {
   "cell_type": "code",
   "id": "initial_id",
   "metadata": {
    "collapsed": true,
    "ExecuteTime": {
     "end_time": "2024-10-08T17:55:42.663719Z",
     "start_time": "2024-10-08T17:55:42.659590Z"
    }
   },
   "source": [
    "import pandas as pd\n",
    "import re"
   ],
   "outputs": [],
   "execution_count": 11
  },
  {
   "metadata": {
    "ExecuteTime": {
     "end_time": "2024-10-08T18:00:58.146482Z",
     "start_time": "2024-10-08T18:00:58.125066Z"
    }
   },
   "cell_type": "code",
   "source": [
    "\n",
    "# Leggi il file CSV\n",
    "df = pd.read_csv(\"carrer.csv\", sep=';', on_bad_lines='skip', engine='python')\n",
    "\n",
    "# Visualizza solo le colonne richieste\n",
    "df = df[['Codice', 'Esame', 'Crediti', 'Voto', 'Anno accademico', 'Data']]\n",
    "\n",
    "# Funzione per rimuovere tutto dopo il nome dell'esame\n",
    "def clean_esame(esame):\n",
    "    return re.sub(r'\\d+ cfu.*', '', esame).strip()\n",
    "\n",
    "# Applica la funzione alla colonna 'Esame'\n",
    "df['Esame'] = df['Esame'].apply(clean_esame)\n",
    "\n",
    "# Definisci la larghezza massima per ciascuna colonna\n",
    "col_widths = {\"Codice\": 10, \"Esame\": 60, \"Crediti\": 8, \"Voto\": 6, \"Anno accademico\": 15, \"Data\": 12}\n",
    "\n",
    "# Formatta l'header\n",
    "header = \"{:<{Codice}} {:<{Esame}} {:<{Crediti}} {:<{Voto}} {:<{Anno accademico}} {:<{Data}}\".format(\n",
    "    \"Codice\", \"Esame\", \"Crediti\", \"Voto\", \"Anno accademico\", \"Data\", **col_widths\n",
    ")\n",
    "\n",
    "# Inizializza una lista per salvare le righe formattate\n",
    "rows = [header]\n",
    "\n",
    "# Formatta i dati\n",
    "for index, row in df.iterrows():\n",
    "    formatted_row = \"{:<{Codice}} {:<{Esame}} {:<{Crediti}} {:<{Voto}} {:<{Anno accademico}} {:<{Data}}\".format(\n",
    "        row[\"Codice\"], row[\"Esame\"], row[\"Crediti\"], row[\"Voto\"], row[\"Anno accademico\"], row[\"Data\"], **col_widths\n",
    "    )\n",
    "    rows.append(formatted_row)\n",
    "\n",
    "# Unisci tutte le righe formattate in una singola stringa\n",
    "output = \"\\n\".join(rows)\n",
    "\n",
    "# Visualizza il risultato\n",
    "print(output)\n",
    "\n",
    "# Esporta il risultato in un file txt\n",
    "with open('exams.txt', 'w') as f:\n",
    "    f.write(output)\n"
   ],
   "id": "de65b15fb47ac43a",
   "outputs": [
    {
     "name": "stdout",
     "output_type": "stream",
     "text": [
      "Codice     Esame                                                        Crediti  Voto   Anno accademico Data        \n",
      "20802017   PROVA FINALE                                                 3        nan    2022/2023       20/12/2023  \n",
      "20801965   SISTEMI INFORMATIVI SU WEB                                   6        28.0   2022/2023       19/09/2023  \n",
      "20810322   Intelligenza artificiale e machine learning                  6        23.0   2022/2023       13/09/2023  \n",
      "20801955   ECONOMIA APPLICATA ALL'INGEGNERIA                            6        30.0   2022/2023       07/09/2023  \n",
      "20802115   FISICA I                                                     12       28.0   2022/2023       18/07/2023  \n",
      "20810001   TIROCINIO                                                    9        nan    2022/2023       27/06/2023  \n",
      "20801962   ANALISI E PROGETTAZIONE DEL SOFTWARE                         6        28.0   2022/2023       16/06/2023  \n",
      "20801963   PROGRAMMAZIONE FUNZIONALE                                    6        30.0   2022/2023       24/02/2023  \n",
      "20801956   RETI DI CALCOLATORI                                          6        26.0   2022/2023       17/02/2023  \n",
      "20801758   BASI DI DATI I                                               6        28.0   2022/2023       09/02/2023  \n",
      "20810076   MOBILE COMPUTING                                             6        30.0   2022/2023       23/01/2023  \n",
      "20810078   ALGORITMI E STRUTTURE DI DATI                                9        30.0   2021/2022       23/09/2022  \n",
      "20202021   IDONEITA LINGUA - INGLESE                                    3        nan    2021/2022       19/09/2022  \n",
      "20801778   FONDAMENTI DI AUTOMATICA                                     9        29.0   2021/2022       27/07/2022  \n",
      "20810074   CALCOLATORI ELETTRONICI                                      6        21.0   2021/2022       13/07/2022  \n",
      "20801777   RICERCA OPERATIVA I                                          6        20.0   2021/2022       30/06/2022  \n",
      "20810075   PROGRAMMAZIONE ORIENTATA AGLI OGGETTI                        9        26.0   2021/2022       17/06/2022  \n",
      "20801775   ELETTROTECNICA ED ELETTRONICA                                9        22.0   2021/2022       14/02/2022  \n",
      "20801782   ANALISI DEI SISTEMI AD EVENTI                                6        26.0   2021/2022       01/02/2022  \n",
      "20801776   FONDAMENTI DI TELECOMUNICAZIONI                              9        19.0   2021/2022       28/01/2022  \n",
      "20810073   FONDAMENTI DI INFORMATICA                                    12       29.0   2020/2021       01/07/2021  \n",
      "20802116   CHIMICA                                                      6        18.0   2020/2021       23/06/2021  \n",
      "20810232   ANALISI MATEMATICA I                                         12       20.0   2020/2021       14/06/2021  \n",
      "20810098   GEOMETRIA E COMBINATORIA                                     12       18.0   2020/2021       11/02/2021  \n"
     ]
    }
   ],
   "execution_count": 18
  }
 ],
 "metadata": {
  "kernelspec": {
   "display_name": "Python 3",
   "language": "python",
   "name": "python3"
  },
  "language_info": {
   "codemirror_mode": {
    "name": "ipython",
    "version": 2
   },
   "file_extension": ".py",
   "mimetype": "text/x-python",
   "name": "python",
   "nbconvert_exporter": "python",
   "pygments_lexer": "ipython2",
   "version": "2.7.6"
  }
 },
 "nbformat": 4,
 "nbformat_minor": 5
}
