{
 "cells": [
  {
   "cell_type": "code",
   "id": "initial_id",
   "metadata": {
    "collapsed": true
   },
   "source": [
    "import pandas as pd\n",
    "import re"
   ],
   "outputs": [],
   "execution_count": null
  },
  {
   "metadata": {},
   "cell_type": "code",
   "source": [
    "\n",
    "# Leggi il file CSV\n",
    "df = pd.read_csv(\"carrer.csv\", sep=';', on_bad_lines='skip', engine='python')\n",
    "\n",
    "# Visualizza solo le colonne richieste\n",
    "df = df[['Codice', 'Esame', 'Crediti', 'Voto', 'Anno accademico', 'Data']]\n",
    "\n",
    "# Funzione per rimuovere tutto dopo il nome dell'esame\n",
    "def clean_esame(esame):\n",
    "    return re.sub(r'\\d+ cfu.*', '', esame).strip()\n",
    "\n",
    "# Applica la funzione alla colonna 'Esame'\n",
    "df['Esame'] = df['Esame'].apply(clean_esame)\n",
    "\n",
    "# Definisci la larghezza massima per ciascuna colonna\n",
    "col_widths = {\"Codice\": 10, \"Esame\": 60, \"Crediti\": 8, \"Voto\": 6, \"Anno accademico\": 15, \"Data\": 12}\n",
    "\n",
    "# Formatta l'header\n",
    "header = \"{:<{Codice}} {:<{Esame}} {:<{Crediti}} {:<{Voto}} {:<{Anno accademico}} {:<{Data}}\".format(\n",
    "    \"Codice\", \"Esame\", \"Crediti\", \"Voto\", \"Anno accademico\", \"Data\", **col_widths\n",
    ")\n",
    "\n",
    "# Inizializza una lista per salvare le righe formattate\n",
    "rows = [header]\n",
    "\n",
    "# Formatta i dati\n",
    "for index, row in df.iterrows():\n",
    "    formatted_row = \"{:<{Codice}} {:<{Esame}} {:<{Crediti}} {:<{Voto}} {:<{Anno accademico}} {:<{Data}}\".format(\n",
    "        row[\"Codice\"], row[\"Esame\"], row[\"Crediti\"], row[\"Voto\"], row[\"Anno accademico\"], row[\"Data\"], **col_widths\n",
    "    )\n",
    "    rows.append(formatted_row)\n",
    "\n",
    "# Unisci tutte le righe formattate in una singola stringa\n",
    "output = \"\\n\".join(rows)\n",
    "\n",
    "# Visualizza il risultato\n",
    "print(output)\n",
    "\n",
    "# Esporta il risultato in un file txt\n",
    "with open('exams.txt', 'w') as f:\n",
    "    f.write(output)\n"
   ],
   "id": "de65b15fb47ac43a",
   "outputs": [],
   "execution_count": null
  }
 ],
 "metadata": {
  "kernelspec": {
   "display_name": "Python 3",
   "language": "python",
   "name": "python3"
  },
  "language_info": {
   "codemirror_mode": {
    "name": "ipython",
    "version": 2
   },
   "file_extension": ".py",
   "mimetype": "text/x-python",
   "name": "python",
   "nbconvert_exporter": "python",
   "pygments_lexer": "ipython2",
   "version": "2.7.6"
  }
 },
 "nbformat": 4,
 "nbformat_minor": 5
}
